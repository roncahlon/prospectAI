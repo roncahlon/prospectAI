{
 "cells": [
  {
   "cell_type": "code",
   "execution_count": 131,
   "metadata": {},
   "outputs": [],
   "source": [
    "# ! pip install langchain"
   ]
  },
  {
   "cell_type": "code",
   "execution_count": 10,
   "metadata": {},
   "outputs": [],
   "source": [
    "# Import packages \n",
    "from langchain import PromptTemplate\n",
    "from langchain.llms import OpenAI\n",
    "from langchain.embeddings.openai import OpenAIEmbeddings\n",
    "from langchain.vectorstores import Chroma\n",
    "\n",
    "\n",
    "import requests, json\n",
    "import logging\n",
    "import os\n",
    "import io\n",
    "import tempfile\n",
    "from dotenv import load_dotenv\n",
    "\n",
    "load_dotenv()\n",
    "\n",
    "# You need to store your OPENAI API KEY and People Lab API Key in your environment\n",
    "openai_api_key = os.environ[\"OPENAI_API_KEY\"]\n",
    "people_lab_api_key = os.environ[\"PEOPLE_LAB_API_KEY\"]\n",
    "\n",
    "\n",
    "############ Tools for Loading Longer data ############\n",
    "\n",
    "from langchain.document_loaders import TextLoader\n",
    "from langchain.text_splitter import CharacterTextSplitter, RecursiveCharacterTextSplitter\n",
    "from langchain.vectorstores import Chroma\n",
    "from langchain.chains import RetrievalQA"
   ]
  },
  {
   "cell_type": "code",
   "execution_count": null,
   "metadata": {},
   "outputs": [],
   "source": []
  },
  {
   "cell_type": "code",
   "execution_count": 11,
   "metadata": {},
   "outputs": [],
   "source": [
    "############## Get Profile Data ################\n",
    "url_input = \"https://www.linkedin.com/in/jeremyscottross/\"\n",
    "\n",
    "if not (openai_api_key and people_lab_api_key):\n",
    "    logging.ERROR(\"won't be able to generate response\")\n",
    "\n",
    "\n",
    "# Set your API key\n",
    "API_KEY = people_lab_api_key\n",
    "\n",
    "# Set the Person Enrichment API URL\n",
    "PDL_URL = \"https://api.peopledatalabs.com/v5/person/enrich\"\n",
    "\n",
    "# Create a parameters JSON object\n",
    "PARAMS = {\n",
    "    \"api_key\": people_lab_api_key,\n",
    "    \"profile\": [url_input],\n",
    "    \"min_likelihood\": 6\n",
    "}\n",
    "\n",
    "\n",
    "json_response = requests.get(PDL_URL, params=PARAMS).json()\n",
    "content = json_response['data']"
   ]
  },
  {
   "cell_type": "code",
   "execution_count": 12,
   "metadata": {},
   "outputs": [],
   "source": [
    "# Initialize Functions\n",
    "def get_split_tests(profile):\n",
    "    loader = TextLoader(profile) \n",
    "    documents = loader.load()\n",
    "    text_splitter = RecursiveCharacterTextSplitter(chunk_size=1000, chunk_overlap=40)\n",
    "    return text_splitter.split_documents(documents)\n",
    "\n"
   ]
  },
  {
   "cell_type": "code",
   "execution_count": 13,
   "metadata": {},
   "outputs": [],
   "source": [
    "# Create an in-memory file-like object for profile\n",
    "file_obj = io.StringIO(json.dumps(content))\n",
    "\n",
    "# Write the contents of the file-like object to a temporary file\n",
    "with tempfile.NamedTemporaryFile(mode='w', delete=False) as temp_file:\n",
    "    temp_file.write(file_obj.read())\n",
    "\n",
    "# Pass the path to the temporary file to split text\n",
    "split_texts = get_split_tests(temp_file.name)\n",
    "\n",
    "# Remove the temporary file\n",
    "os.remove(temp_file.name)"
   ]
  },
  {
   "cell_type": "code",
   "execution_count": 14,
   "metadata": {},
   "outputs": [],
   "source": [
    "# Define your objective\n",
    "objective_options = ['Sell a product', 'Recruit to job', 'Network']\n",
    "\n",
    "# objective = objective_options[1]\n",
    "objective = \"tell me about this this person\""
   ]
  },
  {
   "cell_type": "code",
   "execution_count": 15,
   "metadata": {},
   "outputs": [],
   "source": [
    "# Define the prompt template\n",
    "template = \"\"\"\n",
    "    I have given you a prospects relevant linkedin profile data and my linked in data. Write me a message based on the objective\n",
    "\n",
    "    Here are descriptions of some different input objectives:\n",
    "    - Sell a product: Trying to schedule a meeting to sell this person a product\n",
    "    - Recruit to job: Trying to recruit this person to work for your company\n",
    "    - Network: Trying to expand connect with the person based on common interest\n",
    "    \n",
    "    Keep it under 300 characters.\n",
    "    \n",
    "    The INPUT OBJECTIVE is {objective}\n",
    "\n",
    "    Below are the related documents about the Prospect:\n",
    "    {prospect_related_documents}\n",
    "\n",
    "\"\"\"\n",
    "\n",
    "# Using vector store\n",
    "from langchain.vectorstores import FAISS\n",
    "from langchain.embeddings import OpenAIEmbeddings\n",
    "\n",
    "# define embeddings engine\n",
    "embeddings = OpenAIEmbeddings(openai_api_key=openai_api_key)\n",
    "\n",
    "\n",
    "# Don't need to load all the documents to the data only what is related to our objective\n",
    "def get_related_documents(texts, embeddings, related_string):\n",
    "    db = FAISS.from_documents(texts,embeddings)\n",
    "    retriever = db.as_retriever()\n",
    "    return retriever.get_relevant_documents(related_string)\n",
    "\n",
    "prospect_info = get_related_documents(split_texts, embeddings, objective)\n",
    "\n"
   ]
  },
  {
   "cell_type": "code",
   "execution_count": 16,
   "metadata": {},
   "outputs": [
    {
     "data": {
      "text/plain": [
       "\"\\n\\nHello! I'm messaging you about Jeremy Ross. He has over 10 years of experience in computer & network security, with roles in sales, business development, and management. He has worked at companies like Procter & Gamble, Gifts that Impress, and Flockjay. He is currently a Head of Demand and Sales and Founder at Revenue Genius. His profile also shows he is a member at Modern Sales Pros. Reach out and let's connect to discuss further!\""
      ]
     },
     "execution_count": 16,
     "metadata": {},
     "output_type": "execute_result"
    }
   ],
   "source": [
    "prompt = PromptTemplate(\n",
    "    input_variables=[\"objective\", \"prospect_related_documents\"],\n",
    "    template=template,\n",
    ")\n",
    "\n",
    "prompt_with_input = prompt.format(objective=objective, prospect_related_documents=prospect_info)\n",
    "llm = OpenAI(temperature=.7, openai_api_key=openai_api_key)\n",
    "custom_message = llm(prompt_with_input)\n",
    "\n",
    "custom_message"
   ]
  },
  {
   "cell_type": "code",
   "execution_count": null,
   "metadata": {},
   "outputs": [],
   "source": []
  },
  {
   "cell_type": "code",
   "execution_count": null,
   "metadata": {},
   "outputs": [],
   "source": []
  }
 ],
 "metadata": {
  "kernelspec": {
   "display_name": "openai",
   "language": "python",
   "name": "python3"
  },
  "language_info": {
   "codemirror_mode": {
    "name": "ipython",
    "version": 3
   },
   "file_extension": ".py",
   "mimetype": "text/x-python",
   "name": "python",
   "nbconvert_exporter": "python",
   "pygments_lexer": "ipython3",
   "version": "3.8.16"
  },
  "orig_nbformat": 4,
  "vscode": {
   "interpreter": {
    "hash": "f7980ac58da912dcfc87a8ac6b041f3b99bd4a72e39a259ea9f3cb235bce49cd"
   }
  }
 },
 "nbformat": 4,
 "nbformat_minor": 2
}
